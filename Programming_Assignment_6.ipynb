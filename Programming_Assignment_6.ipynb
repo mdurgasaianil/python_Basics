{
 "cells": [
  {
   "cell_type": "markdown",
   "id": "35823416",
   "metadata": {},
   "source": [
    "## Questions\n",
    "\n",
    "1. Write a Python Program to Display Fibonacci Sequence Using Recursion?\n",
    "2. Write a Python Program to Find Factorial of Number Using Recursion?\n",
    "3. Write a Python Program to calculate your Body Mass Index?\n",
    "4. Write a Python Program to calculate the natural logarithm of any number?\n",
    "5. Write a Python Program for cube sum of first n natural numbers?"
   ]
  },
  {
   "cell_type": "markdown",
   "id": "a96f617c",
   "metadata": {},
   "source": [
    "## Answers\n",
    "\n",
    "### 1.\n",
    "\n",
    "```python\n",
    "def fib(num):\n",
    "    ser = [0,1]\n",
    "    if num:\n",
    "        ser = fib(num-1)\n",
    "    ser.append(ser[num] + ser[num+1])\n",
    "    return ser\n",
    "fib(8)\n",
    "```\n",
    "\n",
    "### 2.\n",
    "\n",
    "```python\n",
    "def fact(num):\n",
    "    n = 1\n",
    "    if num > 1:\n",
    "        n = fact(num-1)\n",
    "    return n * num\n",
    "fact(5)\n",
    "```\n",
    "\n",
    "### 3.\n",
    "\n",
    "```python\n",
    "def BMI(w,h):\n",
    "    return round(w/(h)**2,1)\n",
    "w,h = input(\"Enter weight in Kgs and height in m by space separating\").split(\" \")\n",
    "print(\"Your BMI score is\",BMI(int(w),float(h)))\n",
    "```\n",
    "\n",
    "### 4.\n",
    "\n",
    "```python\n",
    "import math\n",
    "val = int(input(\"Enter the value\",))\n",
    "print(\"Natural logarithm of\",val,\"is\",round(math.log(val),4))\n",
    "```\n",
    "\n",
    "### 5.\n",
    "\n",
    "```python\n",
    "# (n(n+1)/2)^2\n",
    "def cubeSum(n):\n",
    "    return int(((n*(n+1))/2)**2)\n",
    "cubeSum(5)\n",
    "```\n"
   ]
  }
 ],
 "metadata": {
  "kernelspec": {
   "display_name": "Python 3",
   "language": "python",
   "name": "python3"
  },
  "language_info": {
   "codemirror_mode": {
    "name": "ipython",
    "version": 3
   },
   "file_extension": ".py",
   "mimetype": "text/x-python",
   "name": "python",
   "nbconvert_exporter": "python",
   "pygments_lexer": "ipython3",
   "version": "3.8.8"
  }
 },
 "nbformat": 4,
 "nbformat_minor": 5
}

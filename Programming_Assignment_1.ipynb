{
 "cells": [
  {
   "cell_type": "markdown",
   "id": "f4dc1754",
   "metadata": {},
   "source": [
    "## Questions\n",
    "\n",
    "1. Write a Python program to print &quot;Hello Python&quot;?\n",
    "2. Write a Python program to do arithmetical operations addition and division.?\n",
    "3. Write a Python program to find the area of a triangle?\n",
    "4. Write a Python program to swap two variables?\n",
    "5. Write a Python program to generate a random number?"
   ]
  },
  {
   "cell_type": "markdown",
   "id": "9f9c178a",
   "metadata": {},
   "source": [
    "## Answers\n",
    "\n",
    "### 1.\n",
    "```python\n",
    "print(\"Hello Python\")\n",
    "```\n",
    "\n",
    "### 2.\n",
    "```python\n",
    "def AO(a,b,addition=None,division=None):\n",
    "    if addition:\n",
    "        return a + b\n",
    "    elif division:\n",
    "        return a/b\n",
    "    else:\n",
    "        return \"Select Operation\"\n",
    "print(AO(1,2,addition=False,division=True))\n",
    "```\n",
    "\n",
    "### 3.\n",
    "```python\n",
    "# area of triangle 1/2 *base*height\n",
    "def AOT(height,base):\n",
    "    return (base*height)/2\n",
    "print(AOT(14,15))\n",
    "```\n",
    "### 4.\n",
    "\n",
    "```python\n",
    "def swapVariables(var1,var2):\n",
    "    var1,var2 = var2,var1\n",
    "    return var1,var2\n",
    "var1 = 14\n",
    "var2 = 15\n",
    "var1,var2 =swapVariables(var1,var2) \n",
    "print(var1,var2)\n",
    "```\n",
    "\n",
    "### 5.\n",
    "```python\n",
    "import random\n",
    "print(random.random())\n",
    "```"
   ]
  }
 ],
 "metadata": {
  "kernelspec": {
   "display_name": "Python 3",
   "language": "python",
   "name": "python3"
  },
  "language_info": {
   "codemirror_mode": {
    "name": "ipython",
    "version": 3
   },
   "file_extension": ".py",
   "mimetype": "text/x-python",
   "name": "python",
   "nbconvert_exporter": "python",
   "pygments_lexer": "ipython3",
   "version": "3.8.8"
  }
 },
 "nbformat": 4,
 "nbformat_minor": 5
}

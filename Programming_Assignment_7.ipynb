{
 "cells": [
  {
   "cell_type": "markdown",
   "id": "d325c860",
   "metadata": {},
   "source": [
    "## Questions\n",
    "\n",
    "1. Write a Python Program to find sum of array?\n",
    "2. Write a Python Program to find largest element in an array?\n",
    "3. Write a Python Program for array rotation?\n",
    "4. Write a Python Program to Split the array and add the first part to the end?\n",
    "5. Write a Python Program to check if given array is Monotonic?"
   ]
  },
  {
   "cell_type": "markdown",
   "id": "d76a8d7c",
   "metadata": {},
   "source": [
    "## Answers\n",
    "\n",
    "### 1.\n",
    "\n",
    "```python\n",
    "arr = list(map(int,input(\"enter the space separated values\").split(\" \")))\n",
    "print(sum(arr))\n",
    "```\n",
    "\n",
    "### 2.\n",
    "```python\n",
    "arr = list(map(int,input(\"enter the space separated values\").split(\" \")))\n",
    "print(max(arr))\n",
    "```\n",
    "\n",
    "### 3.\n",
    "\n",
    "```python\n",
    "class rotate:\n",
    "    def __init__(self,arr):\n",
    "        self.arr = arr\n",
    "    def right(self):\n",
    "        self.arr.insert(0,self.arr.pop())\n",
    "        return self.arr\n",
    "    def left(self):\n",
    "        self.arr.append(self.arr.pop(0))\n",
    "        return self.arr\n",
    "rotateArray = rotate([1,2,3,4])\n",
    "print(rotateArray.left())\n",
    "```\n",
    "\n",
    "### 4.\n",
    "\n",
    "```python\n",
    "def splitaArray(arr):\n",
    "    if len(arr) == 1:\n",
    "        return arr\n",
    "    else:\n",
    "        return arr[int(len(arr)/2):] + arr[:int(len(arr)/2)]\n",
    "splitaArray([1,2,3,4,5])\n",
    "```\n",
    "\n",
    "### 5.\n",
    "\n",
    "```python\n",
    "def checkMonotonic(arr):\n",
    "    if arr[0] > arr[1]:\n",
    "        for i in range(len(arr)-1):\n",
    "            if arr[i] < arr[i+1]:\n",
    "                return \"Not a Monotonic Array\"\n",
    "        return \"Monotonic\"\n",
    "    else:\n",
    "        for i in range(len(arr)-1):\n",
    "            if arr[i] > arr[i+1]:\n",
    "                return \"Not a Monotonic Array\"\n",
    "        return \"Monotonic\"\n",
    "checkMonotonic([25,20,10,1,15])\n",
    "```"
   ]
  }
 ],
 "metadata": {
  "kernelspec": {
   "display_name": "Python 3",
   "language": "python",
   "name": "python3"
  },
  "language_info": {
   "codemirror_mode": {
    "name": "ipython",
    "version": 3
   },
   "file_extension": ".py",
   "mimetype": "text/x-python",
   "name": "python",
   "nbconvert_exporter": "python",
   "pygments_lexer": "ipython3",
   "version": "3.8.8"
  }
 },
 "nbformat": 4,
 "nbformat_minor": 5
}

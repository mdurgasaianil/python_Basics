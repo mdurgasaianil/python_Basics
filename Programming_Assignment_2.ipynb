{
 "cells": [
  {
   "cell_type": "markdown",
   "id": "7c349a8a",
   "metadata": {},
   "source": [
    "## Questions\n",
    "\n",
    "1. Write a Python program to convert kilometers to miles?\n",
    "2. Write a Python program to convert Celsius to Fahrenheit?\n",
    "3. Write a Python program to display calendar?\n",
    "4. Write a Python program to solve quadratic equation?\n",
    "5. Write a Python program to swap two variables without temp variable?"
   ]
  },
  {
   "cell_type": "markdown",
   "id": "35bcfd22",
   "metadata": {},
   "source": [
    "## Answers\n",
    "\n",
    "### 1.\n",
    "```python\n",
    "def convertkm(km):\n",
    "    # 1 kilometer (km) = 0.62137 miles (mi)\n",
    "    print(km,\"Km equal to\",round(km*0.62137,3),\"miles\")\n",
    "convertkm(3)\n",
    "```\n",
    "\n",
    "### 2.\n",
    "```python\n",
    "def convertcelsius(degree):\n",
    "    print(str(degree)+\"*C equal to\",str(round((degree*1.8)+32,3))+\"*F\")\n",
    "convertcelsius(30)\n",
    "```\n",
    "### 3.\n",
    "\n",
    "```python\n",
    "import calendar\n",
    "print(calendar.month(2022,10))\n",
    "```\n",
    "\n",
    "### 4.\n",
    "\n",
    "```python\n",
    "# (-b ± (b ** 2 - 4 * a * c) ** 0.5) / (2 * a)\n",
    "def solveQuad(a,b,c):\n",
    "    import cmath\n",
    "    d = cmath.sqrt((b**2) - (4*a*c))\n",
    "    root1 = (-b+d)/(2*a)\n",
    "    root2 = (-b-d)/(2*a)\n",
    "    return root1,root2\n",
    "print(solveQuad(1,5,6))\n",
    "```\n",
    "\n",
    "### 5.\n",
    "```python\n",
    "def swapVariables(var1,var2):\n",
    "    var1,var2 = var2,var1\n",
    "    return var1,var2\n",
    "var1 = 14\n",
    "var2 = 15\n",
    "var1,var2 =swapVariables(var1,var2) \n",
    "print(var1,var2)\n",
    "```\n"
   ]
  }
 ],
 "metadata": {
  "kernelspec": {
   "display_name": "Python 3",
   "language": "python",
   "name": "python3"
  },
  "language_info": {
   "codemirror_mode": {
    "name": "ipython",
    "version": 3
   },
   "file_extension": ".py",
   "mimetype": "text/x-python",
   "name": "python",
   "nbconvert_exporter": "python",
   "pygments_lexer": "ipython3",
   "version": "3.8.8"
  }
 },
 "nbformat": 4,
 "nbformat_minor": 5
}
